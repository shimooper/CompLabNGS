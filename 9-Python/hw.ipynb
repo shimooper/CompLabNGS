{
 "cells": [
  {
   "cell_type": "markdown",
   "metadata": {},
   "source": [
    "## Test your knowledge - Dementia Dataset\n",
    "\n",
    "Your training dataset also comes from [kaggle](https://www.kaggle.com/), a platform for data science competitions. The dataset is called [Dementia Prediction](https://www.kaggle.com/datasets/fatemehmehrparvar/dementia). The dataset is used to generate predictions of dementia using the simple MRI score and the amended MRI score. \n",
    "\n",
    "## Instructions\n",
    "\n",
    "Load and examine the Dementia dataset (`data/Dementia.csv`). Based on what we just learned, answer the following questions:\n",
    "\n",
    "1. **Data Understanding and Cleaning**\n",
    "    - How many records and features are there in the dataset? Identify the number of numerical and categorical features.\n",
    "    - Are there any missing values in the dataset? If so, in which columns and how many?\n",
    "    - For numerical columns with missing values, calculate the mean and median. Decide which measure of central tendency is more appropriate for filling the missing values.\n",
    "  \n",
    "2. **Statistical Analysis and Visualization**\n",
    "    - What is the age distribution of the individuals in the dataset? Plot a histogram of the age feature.\n",
    "    - How does the number of years of education relate to the dementia_all feature? Plot a boxplot showing the distribution of education years for individuals with and without dementia.\n",
    "    - Explore the relationship between gender and dementia. Calculate the percentage of individuals with dementia for each gender and create a bar plot.\n",
    "    -**Bonus:** Investigate the prevalence of diabetes, smoking, hypertension, and hypercholesterolemia in the dataset. Create a bar plot for each condition.\n",
    "  \n",
    "3. **Advanced Analysis and Insights**\n",
    "    - Analyze the relationship between the 'SVD Simple Score' and the 'SVD Amended Score'. Is there a strong correlation between these two scores? Use a scatter plot to visualize the relationship.\n",
    "    - Compare the distribution of the 'PS' (Processing Speed) scores for different categories of the 'hypercholesterolemia' feature. Use a boxplot to visualize the comparison.\n",
    "    -**Bonus:** Create a confusion matrix"
   ]
  },
  {
   "cell_type": "code",
   "execution_count": 9,
   "metadata": {},
   "outputs": [
    {
     "name": "stdout",
     "output_type": "stream",
     "text": [
      "ID                        int64\n",
      "age                     float64\n",
      "gender                   object\n",
      "dementia                float64\n",
      "dementia_all              int64\n",
      "educationyears          float64\n",
      "EF                      float64\n",
      "PS                      float64\n",
      "Global                  float64\n",
      "diabetes                  int64\n",
      "smoking                  object\n",
      "hypertension             object\n",
      "hypercholesterolemia     object\n",
      "lacunes_num              object\n",
      "fazekas_cat              object\n",
      "study                    object\n",
      "study1                   object\n",
      "SVD Simple Score        float64\n",
      "SVD Amended Score       float64\n",
      "Fazekas                   int64\n",
      "lac_count                object\n",
      "CMB_count                object\n",
      "dtype: object\n"
     ]
    },
    {
     "data": {
      "text/html": [
       "<div>\n",
       "<style scoped>\n",
       "    .dataframe tbody tr th:only-of-type {\n",
       "        vertical-align: middle;\n",
       "    }\n",
       "\n",
       "    .dataframe tbody tr th {\n",
       "        vertical-align: top;\n",
       "    }\n",
       "\n",
       "    .dataframe thead th {\n",
       "        text-align: right;\n",
       "    }\n",
       "</style>\n",
       "<table border=\"1\" class=\"dataframe\">\n",
       "  <thead>\n",
       "    <tr style=\"text-align: right;\">\n",
       "      <th></th>\n",
       "      <th>ID</th>\n",
       "      <th>age</th>\n",
       "      <th>gender</th>\n",
       "      <th>dementia</th>\n",
       "      <th>dementia_all</th>\n",
       "      <th>educationyears</th>\n",
       "      <th>EF</th>\n",
       "      <th>PS</th>\n",
       "      <th>Global</th>\n",
       "      <th>diabetes</th>\n",
       "      <th>...</th>\n",
       "      <th>hypercholesterolemia</th>\n",
       "      <th>lacunes_num</th>\n",
       "      <th>fazekas_cat</th>\n",
       "      <th>study</th>\n",
       "      <th>study1</th>\n",
       "      <th>SVD Simple Score</th>\n",
       "      <th>SVD Amended Score</th>\n",
       "      <th>Fazekas</th>\n",
       "      <th>lac_count</th>\n",
       "      <th>CMB_count</th>\n",
       "    </tr>\n",
       "  </thead>\n",
       "  <tbody>\n",
       "    <tr>\n",
       "      <th>0</th>\n",
       "      <td>1</td>\n",
       "      <td>52.67</td>\n",
       "      <td>male</td>\n",
       "      <td>0.0</td>\n",
       "      <td>0</td>\n",
       "      <td>11.0</td>\n",
       "      <td>-2.403333</td>\n",
       "      <td>-1.290000</td>\n",
       "      <td>-1.287000</td>\n",
       "      <td>0</td>\n",
       "      <td>...</td>\n",
       "      <td>Yes</td>\n",
       "      <td>more-than-zero</td>\n",
       "      <td>2 to 3</td>\n",
       "      <td>scans</td>\n",
       "      <td>scans</td>\n",
       "      <td>3.0</td>\n",
       "      <td>7.0</td>\n",
       "      <td>3</td>\n",
       "      <td>&gt;5</td>\n",
       "      <td>&gt;=1</td>\n",
       "    </tr>\n",
       "    <tr>\n",
       "      <th>1</th>\n",
       "      <td>10</td>\n",
       "      <td>64.58</td>\n",
       "      <td>male</td>\n",
       "      <td>0.0</td>\n",
       "      <td>0</td>\n",
       "      <td>10.0</td>\n",
       "      <td>1.280000</td>\n",
       "      <td>0.360000</td>\n",
       "      <td>0.744000</td>\n",
       "      <td>0</td>\n",
       "      <td>...</td>\n",
       "      <td>Yes</td>\n",
       "      <td>more-than-zero</td>\n",
       "      <td>0 to 1</td>\n",
       "      <td>scans</td>\n",
       "      <td>scans</td>\n",
       "      <td>2.0</td>\n",
       "      <td>3.0</td>\n",
       "      <td>1</td>\n",
       "      <td>1 to 2</td>\n",
       "      <td>&gt;=1</td>\n",
       "    </tr>\n",
       "    <tr>\n",
       "      <th>2</th>\n",
       "      <td>100</td>\n",
       "      <td>74.92</td>\n",
       "      <td>male</td>\n",
       "      <td>0.0</td>\n",
       "      <td>0</td>\n",
       "      <td>8.0</td>\n",
       "      <td>-1.440000</td>\n",
       "      <td>-1.520000</td>\n",
       "      <td>-0.922000</td>\n",
       "      <td>0</td>\n",
       "      <td>...</td>\n",
       "      <td>Yes</td>\n",
       "      <td>more-than-zero</td>\n",
       "      <td>0 to 1</td>\n",
       "      <td>scans</td>\n",
       "      <td>scans</td>\n",
       "      <td>1.0</td>\n",
       "      <td>2.0</td>\n",
       "      <td>1</td>\n",
       "      <td>1 to 2</td>\n",
       "      <td>0</td>\n",
       "    </tr>\n",
       "    <tr>\n",
       "      <th>3</th>\n",
       "      <td>101</td>\n",
       "      <td>74.83</td>\n",
       "      <td>male</td>\n",
       "      <td>1.0</td>\n",
       "      <td>1</td>\n",
       "      <td>9.0</td>\n",
       "      <td>NaN</td>\n",
       "      <td>-2.136271</td>\n",
       "      <td>-1.301102</td>\n",
       "      <td>0</td>\n",
       "      <td>...</td>\n",
       "      <td>Yes</td>\n",
       "      <td>more-than-zero</td>\n",
       "      <td>2 to 3</td>\n",
       "      <td>scans</td>\n",
       "      <td>scans</td>\n",
       "      <td>2.0</td>\n",
       "      <td>4.0</td>\n",
       "      <td>2</td>\n",
       "      <td>3 to 5</td>\n",
       "      <td>0</td>\n",
       "    </tr>\n",
       "    <tr>\n",
       "      <th>4</th>\n",
       "      <td>102</td>\n",
       "      <td>79.25</td>\n",
       "      <td>male</td>\n",
       "      <td>0.0</td>\n",
       "      <td>0</td>\n",
       "      <td>10.0</td>\n",
       "      <td>-0.920000</td>\n",
       "      <td>-1.493333</td>\n",
       "      <td>-0.924000</td>\n",
       "      <td>0</td>\n",
       "      <td>...</td>\n",
       "      <td>Yes</td>\n",
       "      <td>more-than-zero</td>\n",
       "      <td>2 to 3</td>\n",
       "      <td>scans</td>\n",
       "      <td>scans</td>\n",
       "      <td>2.0</td>\n",
       "      <td>3.0</td>\n",
       "      <td>2</td>\n",
       "      <td>1 to 2</td>\n",
       "      <td>0</td>\n",
       "    </tr>\n",
       "  </tbody>\n",
       "</table>\n",
       "<p>5 rows × 22 columns</p>\n",
       "</div>"
      ],
      "text/plain": [
       "    ID    age gender  dementia  dementia_all  educationyears        EF  \\\n",
       "0    1  52.67   male       0.0             0            11.0 -2.403333   \n",
       "1   10  64.58   male       0.0             0            10.0  1.280000   \n",
       "2  100  74.92   male       0.0             0             8.0 -1.440000   \n",
       "3  101  74.83   male       1.0             1             9.0       NaN   \n",
       "4  102  79.25   male       0.0             0            10.0 -0.920000   \n",
       "\n",
       "         PS    Global  diabetes  ... hypercholesterolemia     lacunes_num  \\\n",
       "0 -1.290000 -1.287000         0  ...                  Yes  more-than-zero   \n",
       "1  0.360000  0.744000         0  ...                  Yes  more-than-zero   \n",
       "2 -1.520000 -0.922000         0  ...                  Yes  more-than-zero   \n",
       "3 -2.136271 -1.301102         0  ...                  Yes  more-than-zero   \n",
       "4 -1.493333 -0.924000         0  ...                  Yes  more-than-zero   \n",
       "\n",
       "  fazekas_cat  study study1 SVD Simple Score SVD Amended Score  Fazekas  \\\n",
       "0      2 to 3  scans  scans              3.0               7.0        3   \n",
       "1      0 to 1  scans  scans              2.0               3.0        1   \n",
       "2      0 to 1  scans  scans              1.0               2.0        1   \n",
       "3      2 to 3  scans  scans              2.0               4.0        2   \n",
       "4      2 to 3  scans  scans              2.0               3.0        2   \n",
       "\n",
       "   lac_count  CMB_count  \n",
       "0         >5        >=1  \n",
       "1     1 to 2        >=1  \n",
       "2     1 to 2          0  \n",
       "3     3 to 5          0  \n",
       "4     1 to 2          0  \n",
       "\n",
       "[5 rows x 22 columns]"
      ]
     },
     "execution_count": 9,
     "metadata": {},
     "output_type": "execute_result"
    }
   ],
   "source": [
    "# Load the Dementia dataset\n",
    "\n",
    "import numpy as np\n",
    "import pandas as pd\n",
    "import matplotlib.pyplot as plt\n",
    "import seaborn as sns\n",
    "\n",
    "df = pd.read_csv('data/Dementia.csv')\n",
    "print(df.dtypes)\n",
    "df.head()"
   ]
  },
  {
   "cell_type": "markdown",
   "metadata": {},
   "source": [
    "## 1 - Data Understanding and Cleaning"
   ]
  },
  {
   "cell_type": "code",
   "execution_count": 10,
   "metadata": {},
   "outputs": [
    {
     "name": "stdout",
     "output_type": "stream",
     "text": [
      "#records: 1842, #features: 22\n",
      "#numerical features: 12, #categorical_features: 10\n"
     ]
    }
   ],
   "source": [
    "# How many records and features are there in the dataset? Identify the number of numerical and categorical features\n",
    "\n",
    "print(f\"#records: {df.shape[0]}, #features: {df.shape[1]}\")\n",
    "numerical_features = df.select_dtypes(include=np.number).columns\n",
    "categorical_features = df.select_dtypes(include=object).columns\n",
    "print(f\"#numerical features: {len(numerical_features)}, #categorical_features: {len(categorical_features)}\")"
   ]
  },
  {
   "cell_type": "code",
   "execution_count": 15,
   "metadata": {},
   "outputs": [
    {
     "name": "stdout",
     "output_type": "stream",
     "text": [
      "column smoking has 11 missing values.\n"
     ]
    }
   ],
   "source": [
    "# Are there any missing values in the dataset? If so, in which columns and how many?\n",
    "# For numerical columns with missing values, calculate the mean and median. \n",
    "# Decide which measure of central tendency is more appropriate for filling the missing values - I decided to go with the median\n",
    "\n",
    "for column in df.columns:\n",
    "    num_of_missing_values = df[column].isnull().sum()\n",
    "    if num_of_missing_values != 0:\n",
    "        print(f\"column {column} has {num_of_missing_values} missing values.\")\n",
    "        if column in numerical_features:\n",
    "            print(f\"Column mean: {df[column].mean()}, Column median: {df[column].median()}. Filling missing values with mean\")\n",
    "            df[column] = df[column].fillna(df[column].mean())"
   ]
  },
  {
   "cell_type": "markdown",
   "metadata": {},
   "source": [
    "## 2 - Statistical Analysis and Visualization"
   ]
  },
  {
   "cell_type": "code",
   "execution_count": 16,
   "metadata": {},
   "outputs": [
    {
     "data": {
      "text/plain": [
       "<Axes: xlabel='age', ylabel='Count'>"
      ]
     },
     "execution_count": 16,
     "metadata": {},
     "output_type": "execute_result"
    },
    {
     "data": {
      "image/png": "[encoded data removed]",
      "text/plain": [
       "<Figure size 640x480 with 1 Axes>"
      ]
     },
     "metadata": {},
     "output_type": "display_data"
    }
   ],
   "source": [
    "# What is the age distribution of the individuals in the dataset? Plot a histogram of the age feature.\n",
    "sns.histplot(df['age'])\n"
   ]
  },
  {
   "cell_type": "code",
   "execution_count": 17,
   "metadata": {},
   "outputs": [
    {
     "data": {
      "text/plain": [
       "<Axes: xlabel='dementia_all', ylabel='educationyears'>"
      ]
     },
     "execution_count": 17,
     "metadata": {},
     "output_type": "execute_result"
    },
    {
     "data": {
      "image/png": "[encoded data removed]",
      "text/plain": [
       "<Figure size 640x480 with 1 Axes>"
      ]
     },
     "metadata": {},
     "output_type": "display_data"
    }
   ],
   "source": [
    "# How does the number of years of education relate to the dementia_all feature? \n",
    "# Plot a boxplot showing the distribution of education years for individuals with and without dementia.\n",
    "\n",
    "sns.boxplot(x='dementia_all', y='educationyears', data=df)"
   ]
  },
  {
   "cell_type": "code",
   "execution_count": 30,
   "metadata": {},
   "outputs": [
    {
     "data": {
      "text/plain": [
       "Text(0, 0.5, 'dementia percentage')"
      ]
     },
     "execution_count": 30,
     "metadata": {},
     "output_type": "execute_result"
    },
    {
     "data": {
      "image/png": "[encoded data removed]",
      "text/plain": [
       "<Figure size 640x480 with 1 Axes>"
      ]
     },
     "metadata": {},
     "output_type": "display_data"
    }
   ],
   "source": [
    "# Explore the relationship between gender and dementia. \n",
    "# Calculate the percentage of individuals with dementia for each gender and create a bar plot.\n",
    "\n",
    "percentage_dementia = df.groupby('gender')['dementia_all'].mean() * 100\n",
    "fig, ax = plt.subplots()\n",
    "sns.barplot(percentage_dementia, ax=ax)\n",
    "ax.set_ylabel('dementia percentage')\n"
   ]
  },
  {
   "cell_type": "markdown",
   "metadata": {},
   "source": [
    "## 3 - Advanced Analysis and Insights"
   ]
  },
  {
   "cell_type": "code",
   "execution_count": 34,
   "metadata": {},
   "outputs": [
    {
     "data": {
      "text/plain": [
       "<Axes: xlabel='SVD Simple Score', ylabel='SVD Amended Score'>"
      ]
     },
     "execution_count": 34,
     "metadata": {},
     "output_type": "execute_result"
    },
    {
     "data": {
      "image/png": "[encoded data removed]",
      "text/plain": [
       "<Figure size 640x480 with 1 Axes>"
      ]
     },
     "metadata": {},
     "output_type": "display_data"
    }
   ],
   "source": [
    "# Analyze the relationship between the 'SVD Simple Score' and the 'SVD Amended Score'. \n",
    "# Is there a strong correlation between these two scores? Use a scatter plot to visualize the relationship.\n",
    "\n",
    "sns.scatterplot(x='SVD Simple Score', y='SVD Amended Score', data=df)"
   ]
  },
  {
   "cell_type": "code",
   "execution_count": 36,
   "metadata": {},
   "outputs": [
    {
     "data": {
      "text/plain": [
       "<Axes: xlabel='hypercholesterolemia', ylabel='PS'>"
      ]
     },
     "execution_count": 36,
     "metadata": {},
     "output_type": "execute_result"
    },
    {
     "data": {
      "image/png": "[encoded data removed]",
      "text/plain": [
       "<Figure size 640x480 with 1 Axes>"
      ]
     },
     "metadata": {},
     "output_type": "display_data"
    }
   ],
   "source": [
    "# Compare the distribution of the 'PS' (Processing Speed) scores for different categories of the 'hypercholesterolemia' feature. \n",
    "# Use a boxplot to visualize the comparison.\n",
    "\n",
    "sns.boxplot(x='hypercholesterolemia', y='PS', data=df)"
   ]
  },
  {
   "cell_type": "code",
   "execution_count": null,
   "metadata": {},
   "outputs": [],
   "source": []
  }
 ],
 "metadata": {
  "kernelspec": {
   "display_name": "alt",
   "language": "python",
   "name": "python3"
  },
  "language_info": {
   "codemirror_mode": {
    "name": "ipython",
    "version": 3
   },
   "file_extension": ".py",
   "mimetype": "text/x-python",
   "name": "python",
   "nbconvert_exporter": "python",
   "pygments_lexer": "ipython3",
   "version": "3.9.15"
  }
 },
 "nbformat": 4,
 "nbformat_minor": 2
}
